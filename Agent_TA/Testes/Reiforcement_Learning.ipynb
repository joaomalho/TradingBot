{
 "cells": [
  {
   "cell_type": "markdown",
   "metadata": {},
   "source": [
    "# __AGENT Deep Q Learning__\n",
    "\n",
    "* Each action should avaluate the quality of the action\n",
    "\n",
    "** Init **\n",
    "\n",
    "Init Q Value (= init model)\n",
    "Choose actiion (model.predict(state))\n",
    "Perform action\n",
    "Measure reward\n",
    "Update Q Value (+ train model)\n",
    "\n",
    "** Repeat **\n",
    "\n",
    "\n",
    "Bellman Equation \n",
    "\n",
    "** Theory + Refs\n",
    "\n",
    "___Agent___\n",
    "- Game\n",
    "- Model\n",
    "\n",
    "___Training___\n",
    "- state = get_state(game):\n",
    "- action = get_move(state):\n",
    "- model.predict\n",
    "- reward, game_over, score = game.play_step(action)\n",
    "- new_state = get_state(game)\n",
    "- remember\n",
    "- model.train()\n",
    "\n",
    "Game (Pygame)\n",
    "- play_step(action) -> reward, game_over, score\n",
    "\n",
    "Model (PyTorch)\n",
    "\n",
    "- model.predict(state) -> action\n",
    "\n",
    "https://www.youtube.com/watch?v=L8ypSXwyBds\n",
    "\n",
    "\n",
    "\n",
    "\n"
   ]
  },
  {
   "cell_type": "code",
   "execution_count": null,
   "metadata": {},
   "outputs": [],
   "source": [
    "# Action\n",
    "[1,0,0] # -> Straight\n",
    "[0,1,0] # -> Right\n",
    "[0,0,1] # -> Left\n",
    "\n"
   ]
  }
 ],
 "metadata": {
  "language_info": {
   "name": "python"
  }
 },
 "nbformat": 4,
 "nbformat_minor": 2
}
